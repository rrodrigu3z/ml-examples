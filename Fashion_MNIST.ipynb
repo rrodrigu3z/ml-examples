{
  "nbformat": 4,
  "nbformat_minor": 0,
  "metadata": {
    "kernelspec": {
      "display_name": "Python 3",
      "language": "python",
      "name": "python3"
    },
    "language_info": {
      "codemirror_mode": {
        "name": "ipython",
        "version": 3
      },
      "file_extension": ".py",
      "mimetype": "text/x-python",
      "name": "python",
      "nbconvert_exporter": "python",
      "pygments_lexer": "ipython3",
      "version": "3.6.10"
    },
    "colab": {
      "name": "Fashion-MNIST.ipynb",
      "provenance": [],
      "collapsed_sections": [],
      "include_colab_link": true
    },
    "accelerator": "GPU"
  },
  "cells": [
    {
      "cell_type": "markdown",
      "metadata": {
        "id": "view-in-github",
        "colab_type": "text"
      },
      "source": [
        "<a href=\"https://colab.research.google.com/github/rrodrigu3z/ml-examples/blob/master/Fashion_MNIST.ipynb\" target=\"_parent\"><img src=\"https://colab.research.google.com/assets/colab-badge.svg\" alt=\"Open In Colab\"/></a>"
      ]
    },
    {
      "cell_type": "markdown",
      "metadata": {
        "id": "vYW3u-3NOX_w",
        "colab_type": "text"
      },
      "source": [
        "# Deep Learning Demo - Moonshot Partners\n",
        "\n",
        "The following notebook explores some basics examples of classification using Deep Neural Networks using Keras.\n",
        "\n",
        "We will be using the [Fasion MNIST dataset](https://github.com/zalandoresearch/fashion-mnist), which contains 60.000 images of clothes for training and 10.000 for test. It's benchmarking dataset used in machine learning algorithms, and a bit more challenging than the traditional [MNIST](http://yann.lecun.com/exdb/mnist/).\n",
        "\n",
        "The main goal is to explore how to tackle a basic multi-class classification problem using Feed Forward/Fully Connected networks and basic Convolutional Neural Networks."
      ]
    },
    {
      "cell_type": "markdown",
      "metadata": {
        "id": "0cd2BuFAOX_x",
        "colab_type": "text"
      },
      "source": [
        "---\n",
        "# Python Modules\n",
        "\n",
        "Let's load [Keras](https://keras.io/) and some basics libraries to use."
      ]
    },
    {
      "cell_type": "code",
      "metadata": {
        "id": "17yeSqFfOX_y",
        "colab_type": "code",
        "colab": {
          "base_uri": "https://localhost:8080/",
          "height": 34
        },
        "outputId": "e4e79172-1f3e-4f35-9db1-00f2fc017333"
      },
      "source": [
        "import keras\n",
        "from keras.datasets import fashion_mnist\n",
        "from keras.models import Sequential\n",
        "from keras.layers import Dense, Dropout, Flatten, BatchNormalization, Activation\n",
        "from keras.layers import Conv2D, MaxPooling2D\n",
        "import tensorflow as tf\n",
        "from sklearn.metrics import classification_report\n",
        "\n",
        "import numpy as np\n",
        "import matplotlib\n",
        "import matplotlib.pyplot as plt"
      ],
      "execution_count": 1,
      "outputs": [
        {
          "output_type": "stream",
          "text": [
            "Using TensorFlow backend.\n"
          ],
          "name": "stderr"
        }
      ]
    },
    {
      "cell_type": "markdown",
      "metadata": {
        "id": "gxRXMwLnOX_1",
        "colab_type": "text"
      },
      "source": [
        "---\n",
        "# Explore Fashion-MNIST Dataset\n",
        "\n",
        "Given that Fashion-MNIST is a quite known and benchmark dataset, Keras includes an easy way to load it and easily split it in train and test sets."
      ]
    },
    {
      "cell_type": "code",
      "metadata": {
        "id": "S68jJf08OX_1",
        "colab_type": "code",
        "colab": {
          "base_uri": "https://localhost:8080/",
          "height": 153
        },
        "outputId": "c8826bf0-7b53-487f-cf60-e550982cf82d"
      },
      "source": [
        "(x_train, y_train), (x_test, y_test) = fashion_mnist.load_data()"
      ],
      "execution_count": 2,
      "outputs": [
        {
          "output_type": "stream",
          "text": [
            "Downloading data from http://fashion-mnist.s3-website.eu-central-1.amazonaws.com/train-labels-idx1-ubyte.gz\n",
            "32768/29515 [=================================] - 0s 0us/step\n",
            "Downloading data from http://fashion-mnist.s3-website.eu-central-1.amazonaws.com/train-images-idx3-ubyte.gz\n",
            "26427392/26421880 [==============================] - 0s 0us/step\n",
            "Downloading data from http://fashion-mnist.s3-website.eu-central-1.amazonaws.com/t10k-labels-idx1-ubyte.gz\n",
            "8192/5148 [===============================================] - 0s 0us/step\n",
            "Downloading data from http://fashion-mnist.s3-website.eu-central-1.amazonaws.com/t10k-images-idx3-ubyte.gz\n",
            "4423680/4422102 [==============================] - 0s 0us/step\n"
          ],
          "name": "stdout"
        }
      ]
    },
    {
      "cell_type": "markdown",
      "metadata": {
        "id": "WddJ40W0OX_4",
        "colab_type": "text"
      },
      "source": [
        "Lets explore what we got:"
      ]
    },
    {
      "cell_type": "code",
      "metadata": {
        "id": "qLYgrgEwOX_4",
        "colab_type": "code",
        "colab": {},
        "outputId": "73b38b62-88dc-48c7-ab89-bbe42a2f522f"
      },
      "source": [
        "# Print dimesions of data strcutures\n",
        "print('Train set inputs (shape): ', x_train.shape)\n",
        "print('Train set output (shape): ', y_train.shape)\n",
        "print('Test set inputs (shape):  ', x_test.shape)\n",
        "print('Test set output (shape):  ', y_test.shape)"
      ],
      "execution_count": 0,
      "outputs": [
        {
          "output_type": "stream",
          "text": [
            "Train set inputs (shape):  (60000, 28, 28)\n",
            "Train set output (shape):  (60000,)\n",
            "Test set inputs (shape):   (10000, 28, 28)\n",
            "Test set output (shape):   (10000,)\n"
          ],
          "name": "stdout"
        }
      ]
    },
    {
      "cell_type": "code",
      "metadata": {
        "id": "n-Pit0sOOX_8",
        "colab_type": "code",
        "colab": {},
        "outputId": "8d6c822c-398e-43ce-845f-af7d8b56e461"
      },
      "source": [
        "print(\"Training set:\")\n",
        "print(\"Number of observations: {}\\nImage dimensions: {}x{}\".format(*x_train.shape))\n",
        "print(\"\\nTest Set:\")\n",
        "print(\"Number of observations: {}\\nImage dimensions: {}x{}\".format(*x_test.shape))"
      ],
      "execution_count": 0,
      "outputs": [
        {
          "output_type": "stream",
          "text": [
            "Training set:\n",
            "Number of observations: 60000\n",
            "Image dimensions: 28x28\n",
            "\n",
            "Test Set:\n",
            "Number of observations: 10000\n",
            "Image dimensions: 28x28\n"
          ],
          "name": "stdout"
        }
      ]
    },
    {
      "cell_type": "markdown",
      "metadata": {
        "id": "v8wktcp5OX_-",
        "colab_type": "text"
      },
      "source": [
        "**Observations:**\n",
        "* The **training set** contains **60.000** images, and **test** set has **10.000**. Image resolution is **28x28** pixeles\n",
        "* Given we only have 2 dimensions, we have grayscale images."
      ]
    },
    {
      "cell_type": "markdown",
      "metadata": {
        "id": "fPBjRPetOX_-",
        "colab_type": "text"
      },
      "source": [
        "So, let's explore now what an image looks like"
      ]
    },
    {
      "cell_type": "code",
      "metadata": {
        "id": "j4PmvcfbOX__",
        "colab_type": "code",
        "colab": {},
        "outputId": "62cc1689-3d51-4727-8ffd-bec4e709f6c2"
      },
      "source": [
        "sample_image = x_train[0]\n",
        "print(\"Image dimensions: \", sample_image.shape)\n",
        "print(\"Examples of representation of pixel data: \")\n",
        "sample_image[2:5]"
      ],
      "execution_count": 0,
      "outputs": [
        {
          "output_type": "stream",
          "text": [
            "Image dimensions:  (28, 28)\n",
            "Examples of representation of pixel data: \n"
          ],
          "name": "stdout"
        },
        {
          "output_type": "execute_result",
          "data": {
            "text/plain": [
              "array([[  0,   0,   0,   0,   0,   0,   0,   0,   0,   0,   0,   0,   0,\n",
              "          0,   0,   0,   0,   0,   0,   0,   0,   0,   0,   0,   0,   0,\n",
              "          0,   0],\n",
              "       [  0,   0,   0,   0,   0,   0,   0,   0,   0,   0,   0,   0,   1,\n",
              "          0,   0,  13,  73,   0,   0,   1,   4,   0,   0,   0,   0,   1,\n",
              "          1,   0],\n",
              "       [  0,   0,   0,   0,   0,   0,   0,   0,   0,   0,   0,   0,   3,\n",
              "          0,  36, 136, 127,  62,  54,   0,   0,   0,   1,   3,   4,   0,\n",
              "          0,   3]], dtype=uint8)"
            ]
          },
          "metadata": {
            "tags": []
          },
          "execution_count": 11
        }
      ]
    },
    {
      "cell_type": "markdown",
      "metadata": {
        "id": "5QXfmvb9OYAB",
        "colab_type": "text"
      },
      "source": [
        "Now, let's explore the targets"
      ]
    },
    {
      "cell_type": "code",
      "metadata": {
        "id": "_8vdgof1OYAC",
        "colab_type": "code",
        "colab": {},
        "outputId": "a790522d-fa90-4b12-f336-43d4b6ffd99c"
      },
      "source": [
        "print(\"Y train sample: \", list(set(y_train)))\n",
        "print(\"Y train size:\", len(y_train))\n",
        "print(\"Y test sample: \", list(set(y_test)))\n",
        "print(\"Y test size:\", len(y_test))"
      ],
      "execution_count": 0,
      "outputs": [
        {
          "output_type": "stream",
          "text": [
            "Y train sample:  [0, 1, 2, 3, 4, 5, 6, 7, 8, 9]\n",
            "Y train size: 60000\n",
            "Y test sample:  [0, 1, 2, 3, 4, 5, 6, 7, 8, 9]\n",
            "Y test size: 10000\n"
          ],
          "name": "stdout"
        }
      ]
    },
    {
      "cell_type": "markdown",
      "metadata": {
        "id": "33O_jRB9OYAE",
        "colab_type": "text"
      },
      "source": [
        "**Observations:** \n",
        "Each example is represented by an image  composed by 28x28 intensity levels (between 0 and 255). We will need to normalize those values to 0..1 float.\n",
        "\n",
        "Regarding Y, we have 10 clases (from 0 to 9). The following table (taken from [Fasion-MNIST repo]( https://github.com/zalandoresearch/fashion-mnist)) describes the 10 classes:\n",
        "\n",
        "\n",
        "| Label | Description |\n",
        "| --- | --- |\n",
        "| 0 | T-shirt/top |\n",
        "| 1 | Trouser |\n",
        "| 2 | Pullover |\n",
        "| 3 | Dress |\n",
        "| 4 | Coat |\n",
        "| 5 | Sandal |\n",
        "| 6 | Shirt |\n",
        "| 7 | Sneaker |\n",
        "| 8 | Bag |\n",
        "| 9 | Ankle boot |\n",
        "\n",
        "So let's normalize the inputs:"
      ]
    },
    {
      "cell_type": "code",
      "metadata": {
        "id": "o-jChNvDOYAF",
        "colab_type": "code",
        "colab": {}
      },
      "source": [
        "x_train = x_train / 255.0\n",
        "x_test = x_test / 255.0"
      ],
      "execution_count": 0,
      "outputs": []
    },
    {
      "cell_type": "code",
      "metadata": {
        "id": "Nz9VwA6-OYAH",
        "colab_type": "code",
        "colab": {},
        "outputId": "aee08b97-e992-4ae5-a022-a0e7d492f645"
      },
      "source": [
        "sample_image = x_train[0]\n",
        "print(\"Example of new representation of pixel data: \")\n",
        "sample_image[3]"
      ],
      "execution_count": 0,
      "outputs": [
        {
          "output_type": "stream",
          "text": [
            "Example of new representation of pixel data: \n"
          ],
          "name": "stdout"
        },
        {
          "output_type": "execute_result",
          "data": {
            "text/plain": [
              "array([0.        , 0.        , 0.        , 0.        , 0.        ,\n",
              "       0.        , 0.        , 0.        , 0.        , 0.        ,\n",
              "       0.        , 0.        , 0.00392157, 0.        , 0.        ,\n",
              "       0.05098039, 0.28627451, 0.        , 0.        , 0.00392157,\n",
              "       0.01568627, 0.        , 0.        , 0.        , 0.        ,\n",
              "       0.00392157, 0.00392157, 0.        ])"
            ]
          },
          "metadata": {
            "tags": []
          },
          "execution_count": 25
        }
      ]
    },
    {
      "cell_type": "markdown",
      "metadata": {
        "id": "96VVVoeUOYAJ",
        "colab_type": "text"
      },
      "source": [
        "Now let's visualize some images, first let's create some utility functions:"
      ]
    },
    {
      "cell_type": "code",
      "metadata": {
        "id": "oMTcBHUjOYAJ",
        "colab_type": "code",
        "colab": {}
      },
      "source": [
        "CLASS_NAMES = ['T-shirt / Top', 'Trouser', 'Pullover', \n",
        "               'Dress','Coat', 'Sandal', 'Shirt', \n",
        "               'Sneaker', 'Bag', 'Ankle Boot']\n",
        "\n",
        "def humanize_class(class_id):\n",
        "    return CLASS_NAMES[class_id]\n",
        "\n",
        "def show_images_grid(images, y):\n",
        "    '''Show a grid of images with their class'''\n",
        "    plt.figure(figsize=(10,10))\n",
        "    \n",
        "    for i in range(len(images)):\n",
        "        plt.subplot(5,5,i+1)\n",
        "        plt.xticks([])\n",
        "        plt.yticks([])\n",
        "        plt.grid(False)\n",
        "        plt.imshow(images[i], cmap='gray')\n",
        "        plt.xlabel(humanize_class(y[i]))\n",
        "    plt.show()"
      ],
      "execution_count": 0,
      "outputs": []
    },
    {
      "cell_type": "code",
      "metadata": {
        "id": "4uuCQ_DsOYAM",
        "colab_type": "code",
        "colab": {},
        "outputId": "448650cc-2cfb-452f-a98f-ff29f0e56b99"
      },
      "source": [
        "# Show 15 images with their class from the training set\n",
        "show_images_grid(x_train[0:15], y_train[0:15])"
      ],
      "execution_count": 0,
      "outputs": [
        {
          "output_type": "display_data",
          "data": {
            "image/png": "[encoded data removed]",
            "text/plain": [
              "<Figure size 720x720 with 15 Axes>"
            ]
          },
          "metadata": {
            "tags": []
          }
        }
      ]
    },
    {
      "cell_type": "code",
      "metadata": {
        "id": "R-jPzEWeOYAO",
        "colab_type": "code",
        "colab": {},
        "outputId": "3464d875-6c45-43bf-8e57-1dde003080c6"
      },
      "source": [
        "# Show 5 images from the test set\n",
        "show_images_grid(x_test[0:5], y_test[0:15])"
      ],
      "execution_count": 0,
      "outputs": [
        {
          "output_type": "display_data",
          "data": {
            "image/png": "[encoded data removed]",
            "text/plain": [
              "<Figure size 720x720 with 5 Axes>"
            ]
          },
          "metadata": {
            "tags": []
          }
        }
      ]
    },
    {
      "cell_type": "markdown",
      "metadata": {
        "id": "ox2bnTfxOYAQ",
        "colab_type": "text"
      },
      "source": [
        "So, we have some low res / small images, which is fine given we don't want to train for hours our network :p "
      ]
    },
    {
      "cell_type": "markdown",
      "metadata": {
        "id": "1PDuXaFbOYAQ",
        "colab_type": "text"
      },
      "source": [
        "---\n",
        "# Training\n",
        "\n",
        "First, we need to define some functions to plot the training history to be able to easier interpret what happened during training."
      ]
    },
    {
      "cell_type": "code",
      "metadata": {
        "id": "FJoofpW8OYAQ",
        "colab_type": "code",
        "colab": {}
      },
      "source": [
        "def plot_metric(train, val, y_label, loc, title='Model'):\n",
        "    '''Plot training history (train and val per epoch)'''\n",
        "    plt.plot(train)\n",
        "    plt.plot(val)\n",
        "    plt.title(title)\n",
        "    plt.ylabel(y_label)\n",
        "    plt.xlabel('Epoch')\n",
        "    plt.legend(['Train', 'Val'], loc=loc)\n",
        "    \n",
        "def plot_training(history, model_name='Model'):\n",
        "    '''Plot loss and accuracy from the training history'''\n",
        "    plt.figure(figsize=(14,8))\n",
        "    plt.subplot(2,2,1)\n",
        "    plot_metric(history.history['loss'], history.history['val_loss'],  \n",
        "                y_label='Loss', \n",
        "                loc='upper right',\n",
        "                title=f'{model_name} - Loss')\n",
        "\n",
        "    plt.subplot(2,2,2)\n",
        "    plot_metric(history.history['acc'], history.history['val_acc'],  \n",
        "                y_label='Accuracy', \n",
        "                loc='upper left',\n",
        "                title=f'{model_name} - Accuracy')\n",
        "    plt.show()"
      ],
      "execution_count": 0,
      "outputs": []
    },
    {
      "cell_type": "code",
      "metadata": {
        "id": "pVWWsZcdOYAS",
        "colab_type": "code",
        "colab": {}
      },
      "source": [
        "def evaluate_model(model, x, y):\n",
        "    '''Evaluates a model and print Loss and Accuracy'''\n",
        "    loss, acc = model.evaluate(x, y, verbose=1)\n",
        "    print(\"Loss: \", loss)\n",
        "    print(\"ACC: \", acc)\n",
        "\n",
        "    \n",
        "def model_classfication_report(model, x, y):\n",
        "    model_pred = model.predict(x, verbose=1)\n",
        "    # Use argmax to get the class with max probability (revert one-hot encoding)\n",
        "    model_pred = np.argmax(model_pred, axis=1)\n",
        "    report = classification_report(np.argmax(y_test_onehot, axis=1), model_pred)  \n",
        "    print(report)\n",
        "    return model_pred"
      ],
      "execution_count": 0,
      "outputs": []
    },
    {
      "cell_type": "markdown",
      "metadata": {
        "id": "msYcULy7OYAU",
        "colab_type": "text"
      },
      "source": [
        "In order to train our networks we will need to make a little change to our target set,  We need to encode it as one-hot vectors, so we will have a 10 elements vector, where only one of elements is active (1) and the other elements are zero."
      ]
    },
    {
      "cell_type": "code",
      "metadata": {
        "id": "KSBIvvliOYAV",
        "colab_type": "code",
        "colab": {
          "base_uri": "https://localhost:8080/",
          "height": 136
        },
        "outputId": "79de494e-bb0d-48f1-df2e-2ef20baa424a"
      },
      "source": [
        "# Create one-hot vectors for y_train and y_test\n",
        "y_train_onehot = keras.utils.to_categorical(y_train, 10)\n",
        "y_test_onehot = keras.utils.to_categorical(y_test, 10)\n",
        "\n",
        "y_train_onehot"
      ],
      "execution_count": 7,
      "outputs": [
        {
          "output_type": "execute_result",
          "data": {
            "text/plain": [
              "array([[0., 0., 0., ..., 0., 0., 1.],\n",
              "       [1., 0., 0., ..., 0., 0., 0.],\n",
              "       [1., 0., 0., ..., 0., 0., 0.],\n",
              "       ...,\n",
              "       [0., 0., 0., ..., 0., 0., 0.],\n",
              "       [1., 0., 0., ..., 0., 0., 0.],\n",
              "       [0., 0., 0., ..., 0., 0., 0.]], dtype=float32)"
            ]
          },
          "metadata": {
            "tags": []
          },
          "execution_count": 7
        }
      ]
    },
    {
      "cell_type": "markdown",
      "metadata": {
        "id": "dnYDdIQmOYAZ",
        "colab_type": "text"
      },
      "source": [
        "## A Very Very Simple Neural Network\n",
        "\n",
        "So let's try first with a very simple feed forward network with 2 hidden layers. We will be using `sigmoid` as the activation function for the hidden layers in this simple example, just for exploring purposes. Also, the output layer will use `softmax` activation, so we can transform the output vector to categorical probabilities.\n",
        "\n",
        "Check more about [activation functions](https://keras.io/api/layers/activations/) in Keras documentation."
      ]
    },
    {
      "cell_type": "code",
      "metadata": {
        "id": "NqN7IpXkOYAZ",
        "colab_type": "code",
        "colab": {
          "base_uri": "https://localhost:8080/",
          "height": 289
        },
        "outputId": "6e5393c9-d3b3-4fa2-acf6-287e60c46ac7"
      },
      "source": [
        "model = Sequential()\n",
        "\n",
        "# We want to flatten the input, so the 28x28 matrix will \n",
        "# be converted to a vector of. 784 elements.\n",
        "model.add(Flatten(input_shape=(28, 28)))\n",
        "\n",
        "# Hidden layers with sigmoid activation\n",
        "model.add(Dense(128, activation='sigmoid'))\n",
        "model.add(Dense(64, activation='sigmoid'))\n",
        "\n",
        "# Output layer with 10 nodes. We have a 10 class problem so\n",
        "# we want only 1 neuron active on the output. \n",
        "# The activation function si softmax\n",
        "model.add(Dense(10, activation='softmax'))\n",
        "\n",
        "model.summary()"
      ],
      "execution_count": 10,
      "outputs": [
        {
          "output_type": "stream",
          "text": [
            "Model: \"sequential_1\"\n",
            "_________________________________________________________________\n",
            "Layer (type)                 Output Shape              Param #   \n",
            "=================================================================\n",
            "flatten_1 (Flatten)          (None, 784)               0         \n",
            "_________________________________________________________________\n",
            "dense_1 (Dense)              (None, 128)               100480    \n",
            "_________________________________________________________________\n",
            "dense_2 (Dense)              (None, 64)                8256      \n",
            "_________________________________________________________________\n",
            "dense_3 (Dense)              (None, 10)                650       \n",
            "=================================================================\n",
            "Total params: 109,386\n",
            "Trainable params: 109,386\n",
            "Non-trainable params: 0\n",
            "_________________________________________________________________\n"
          ],
          "name": "stdout"
        }
      ]
    },
    {
      "cell_type": "markdown",
      "metadata": {
        "id": "7YAugGsFOYAc",
        "colab_type": "text"
      },
      "source": [
        "Even with this small network, we have more than 100k parameters to learn!!!! So we can have an idea of the amount of calculations to be done on bigger and complex topologies.\n",
        "\n",
        "The next step is to compile our model, we need to specify the optimizer (we will use our traditional Stochastic Gradient Descend), the loss function to use (`categorical_crossentropy` given there are two or more label classes and one-hot encoded) and we are collecting `accuracy` during training."
      ]
    },
    {
      "cell_type": "code",
      "metadata": {
        "id": "q3dkEClwOYAc",
        "colab_type": "code",
        "colab": {}
      },
      "source": [
        "model.compile(optimizer='sgd',\n",
        "              loss='categorical_crossentropy',\n",
        "              metrics=['acc'])"
      ],
      "execution_count": 0,
      "outputs": []
    },
    {
      "cell_type": "markdown",
      "metadata": {
        "id": "b5rlSS_tOYAe",
        "colab_type": "text"
      },
      "source": [
        "Now we're ready to train!! (finally xD), so we need to define the number of epochs and the batch size.\n",
        "We will be using 20% of out training data for validation during training."
      ]
    },
    {
      "cell_type": "code",
      "metadata": {
        "id": "5w2BU7zAOYAf",
        "colab_type": "code",
        "colab": {}
      },
      "source": [
        "# Epoch y batch size\n",
        "epochs = 10\n",
        "batch_size = 128"
      ],
      "execution_count": 0,
      "outputs": []
    },
    {
      "cell_type": "code",
      "metadata": {
        "id": "SAuSJSccOYAg",
        "colab_type": "code",
        "colab": {
          "base_uri": "https://localhost:8080/",
          "height": 374
        },
        "outputId": "15345902-618e-4e88-b303-aee950116d3f"
      },
      "source": [
        "history = model.fit(\n",
        "    x_train, \n",
        "    y_train_onehot, \n",
        "    epochs=epochs,\n",
        "    batch_size=batch_size,\n",
        "    validation_split=0.2, # 20% held-out \n",
        "    verbose=1\n",
        ")"
      ],
      "execution_count": 13,
      "outputs": [
        {
          "output_type": "stream",
          "text": [
            "Train on 48000 samples, validate on 12000 samples\n",
            "Epoch 1/10\n",
            "48000/48000 [==============================] - 3s 62us/step - loss: 2.2796 - acc: 0.2954 - val_loss: 2.2251 - val_acc: 0.5198\n",
            "Epoch 2/10\n",
            "48000/48000 [==============================] - 1s 27us/step - loss: 2.1770 - acc: 0.5562 - val_loss: 2.1218 - val_acc: 0.5209\n",
            "Epoch 3/10\n",
            "48000/48000 [==============================] - 1s 27us/step - loss: 2.0512 - acc: 0.5532 - val_loss: 1.9698 - val_acc: 0.5658\n",
            "Epoch 4/10\n",
            "48000/48000 [==============================] - 1s 27us/step - loss: 1.8791 - acc: 0.5617 - val_loss: 1.7822 - val_acc: 0.5972\n",
            "Epoch 5/10\n",
            "48000/48000 [==============================] - 1s 27us/step - loss: 1.6953 - acc: 0.5944 - val_loss: 1.6077 - val_acc: 0.6075\n",
            "Epoch 6/10\n",
            "48000/48000 [==============================] - 1s 27us/step - loss: 1.5382 - acc: 0.6172 - val_loss: 1.4660 - val_acc: 0.6471\n",
            "Epoch 7/10\n",
            "48000/48000 [==============================] - 1s 27us/step - loss: 1.4124 - acc: 0.6352 - val_loss: 1.3528 - val_acc: 0.6752\n",
            "Epoch 8/10\n",
            "48000/48000 [==============================] - 1s 27us/step - loss: 1.3104 - acc: 0.6548 - val_loss: 1.2590 - val_acc: 0.6637\n",
            "Epoch 9/10\n",
            "48000/48000 [==============================] - 1s 27us/step - loss: 1.2257 - acc: 0.6632 - val_loss: 1.1808 - val_acc: 0.6708\n",
            "Epoch 10/10\n",
            "48000/48000 [==============================] - 1s 27us/step - loss: 1.1541 - acc: 0.6727 - val_loss: 1.1145 - val_acc: 0.6920\n"
          ],
          "name": "stdout"
        }
      ]
    },
    {
      "cell_type": "code",
      "metadata": {
        "id": "K6ISMx1aOYAi",
        "colab_type": "code",
        "colab": {},
        "outputId": "41dc4c71-dc44-4821-90bc-93ea8d09f8e0"
      },
      "source": [
        "# Plot training history\n",
        "plot_training(history, model_name='Very Simple Model')"
      ],
      "execution_count": 0,
      "outputs": [
        {
          "output_type": "display_data",
          "data": {
            "image/png": "[encoded data removed]",
            "text/plain": [
              "<Figure size 1008x576 with 2 Axes>"
            ]
          },
          "metadata": {
            "tags": [],
            "needs_background": "light"
          }
        }
      ]
    },
    {
      "cell_type": "markdown",
      "metadata": {
        "id": "ZX-hqLWjOYAk",
        "colab_type": "text"
      },
      "source": [
        "We can see that the loss function is decreasing a bit slow, and the most probable reason for this is because of Sigmoid activation. We will explore ReLU. Also, it's important to notice that we're not seeing overfitting, given the validation curve follows quite well the train curve and we are nos seeing validation accuracy drop significatly below training data, we can tell our model is not \"memorizing\" the training set.\n",
        "\n",
        "Now, let's eval the model with the test data and generate a classification report."
      ]
    },
    {
      "cell_type": "code",
      "metadata": {
        "id": "Zh7B7MbSOYAk",
        "colab_type": "code",
        "colab": {},
        "outputId": "99c62dbf-e0ec-4569-aafc-0f856d4a3a69"
      },
      "source": [
        "evaluate_model(model, x_test, y_test_onehot)\n",
        "print('\\nClassification Report: ')\n",
        "model_classfication_report(model, x_test, y_test_onehot)"
      ],
      "execution_count": 0,
      "outputs": [
        {
          "output_type": "stream",
          "text": [
            "10000/10000 [==============================] - 0s 16us/step\n",
            "Loss:  1.1372483451843263\n",
            "ACC:  0.65420001745224\n",
            "\n",
            "Classification Report: \n",
            "10000/10000 [==============================] - 0s 15us/step\n",
            "              precision    recall  f1-score   support\n",
            "\n",
            "           0       0.61      0.77      0.68      1000\n",
            "           1       0.79      0.91      0.84      1000\n",
            "           2       0.44      0.66      0.53      1000\n",
            "           3       0.68      0.58      0.63      1000\n",
            "           4       0.48      0.32      0.39      1000\n",
            "           5       0.84      0.44      0.58      1000\n",
            "           6       0.38      0.18      0.25      1000\n",
            "           7       0.70      0.86      0.77      1000\n",
            "           8       0.87      0.87      0.87      1000\n",
            "           9       0.73      0.94      0.82      1000\n",
            "\n",
            "    accuracy                           0.65     10000\n",
            "   macro avg       0.65      0.65      0.64     10000\n",
            "weighted avg       0.65      0.65      0.64     10000\n",
            "\n"
          ],
          "name": "stdout"
        }
      ]
    },
    {
      "cell_type": "markdown",
      "metadata": {
        "id": "VnCFU7O6OYAm",
        "colab_type": "text"
      },
      "source": [
        "Not very impressive results, but we will be improving it soon :)"
      ]
    },
    {
      "cell_type": "markdown",
      "metadata": {
        "id": "VmpDah_YOYAm",
        "colab_type": "text"
      },
      "source": [
        "## Very Very Simple Neural Network with ReLU\n",
        "\n",
        "Sigmoid is an activation function that causes a lot of problems, it was used in the past, but it's not ideal, because it can easely suffer of saturation and causes the dying of gradients. A more common activation fuction today is ReLU (Rectified Linear Unit). Let's give it a try."
      ]
    },
    {
      "cell_type": "code",
      "metadata": {
        "id": "SmsyaJeHOYAn",
        "colab_type": "code",
        "colab": {},
        "outputId": "31e4b6b8-2e90-495e-d884-1f5dc989dae1"
      },
      "source": [
        "model = Sequential()\n",
        "model.add(Flatten(input_shape=(28, 28)))\n",
        "model.add(Dense(128, activation='relu'))\n",
        "model.add(Dense(64, activation='relu'))\n",
        "model.add(Dense(10, activation='softmax'))\n",
        "model.summary()\n",
        "\n",
        "model.compile(optimizer='sgd',\n",
        "              loss='categorical_crossentropy',\n",
        "              metrics=['acc'])\n",
        "\n",
        "history = model.fit(x_train, y_train_onehot, \n",
        "                    epochs=epochs,\n",
        "                    batch_size=batch_size,\n",
        "                    validation_split=0.2, # 20% held-out \n",
        "                    verbose=1)\n",
        "plot_training(history, model_name='Simple ReLU Model')"
      ],
      "execution_count": 0,
      "outputs": [
        {
          "output_type": "stream",
          "text": [
            "Model: \"sequential_5\"\n",
            "_________________________________________________________________\n",
            "Layer (type)                 Output Shape              Param #   \n",
            "=================================================================\n",
            "flatten_5 (Flatten)          (None, 784)               0         \n",
            "_________________________________________________________________\n",
            "dense_13 (Dense)             (None, 128)               100480    \n",
            "_________________________________________________________________\n",
            "dense_14 (Dense)             (None, 64)                8256      \n",
            "_________________________________________________________________\n",
            "dense_15 (Dense)             (None, 10)                650       \n",
            "=================================================================\n",
            "Total params: 109,386\n",
            "Trainable params: 109,386\n",
            "Non-trainable params: 0\n",
            "_________________________________________________________________\n",
            "Train on 48000 samples, validate on 12000 samples\n",
            "Epoch 1/10\n",
            "48000/48000 [==============================] - 1s 25us/step - loss: 1.2194 - acc: 0.6248 - val_loss: 0.8144 - val_acc: 0.7351\n",
            "Epoch 2/10\n",
            "48000/48000 [==============================] - 1s 16us/step - loss: 0.7304 - acc: 0.7541 - val_loss: 0.6537 - val_acc: 0.7753\n",
            "Epoch 3/10\n",
            "48000/48000 [==============================] - 1s 16us/step - loss: 0.6218 - acc: 0.7874 - val_loss: 0.5946 - val_acc: 0.7935\n",
            "Epoch 4/10\n",
            "48000/48000 [==============================] - 1s 15us/step - loss: 0.5654 - acc: 0.8056 - val_loss: 0.5425 - val_acc: 0.8108\n",
            "Epoch 5/10\n",
            "48000/48000 [==============================] - 1s 17us/step - loss: 0.5311 - acc: 0.8170 - val_loss: 0.5189 - val_acc: 0.8207\n",
            "Epoch 6/10\n",
            "48000/48000 [==============================] - 1s 16us/step - loss: 0.5069 - acc: 0.8261 - val_loss: 0.5001 - val_acc: 0.8234\n",
            "Epoch 7/10\n",
            "48000/48000 [==============================] - 1s 16us/step - loss: 0.4885 - acc: 0.8303 - val_loss: 0.4908 - val_acc: 0.8268\n",
            "Epoch 8/10\n",
            "48000/48000 [==============================] - 1s 17us/step - loss: 0.4738 - acc: 0.8360 - val_loss: 0.4780 - val_acc: 0.8301\n",
            "Epoch 9/10\n",
            "48000/48000 [==============================] - 1s 15us/step - loss: 0.4622 - acc: 0.8400 - val_loss: 0.4646 - val_acc: 0.8370\n",
            "Epoch 10/10\n",
            "48000/48000 [==============================] - 1s 17us/step - loss: 0.4521 - acc: 0.8443 - val_loss: 0.4521 - val_acc: 0.8401\n"
          ],
          "name": "stdout"
        },
        {
          "output_type": "display_data",
          "data": {
            "image/png": "[encoded data removed]",
            "text/plain": [
              "<Figure size 1008x576 with 2 Axes>"
            ]
          },
          "metadata": {
            "tags": [],
            "needs_background": "light"
          }
        }
      ]
    },
    {
      "cell_type": "markdown",
      "metadata": {
        "id": "gQVYeb3BOYAp",
        "colab_type": "text"
      },
      "source": [
        "With only switching from `sigmoid` to `relu` we can quickly spot the differences in the training. It converges quicker and the final accuracy is much better (~25% better). Let's validate the model with test data."
      ]
    },
    {
      "cell_type": "code",
      "metadata": {
        "id": "I1qCNifbOYAp",
        "colab_type": "code",
        "colab": {},
        "outputId": "42abdc76-982a-4ee3-a577-00fcdd31e7a4"
      },
      "source": [
        "evaluate_model(model, x_test, y_test_onehot)\n",
        "print('\\nClassification Report: ')\n",
        "model_classfication_report(model, x_test, y_test_onehot)"
      ],
      "execution_count": 0,
      "outputs": [
        {
          "output_type": "stream",
          "text": [
            "10000/10000 [==============================] - 0s 16us/step\n",
            "Loss:  0.4761326412200928\n",
            "ACC:  0.8342999815940857\n",
            "\n",
            "Classification Report: \n",
            "10000/10000 [==============================] - 0s 17us/step\n",
            "              precision    recall  f1-score   support\n",
            "\n",
            "           0       0.80      0.81      0.80      1000\n",
            "           1       0.97      0.95      0.96      1000\n",
            "           2       0.71      0.76      0.73      1000\n",
            "           3       0.82      0.85      0.84      1000\n",
            "           4       0.72      0.74      0.73      1000\n",
            "           5       0.93      0.92      0.92      1000\n",
            "           6       0.63      0.54      0.58      1000\n",
            "           7       0.91      0.90      0.90      1000\n",
            "           8       0.94      0.93      0.93      1000\n",
            "           9       0.91      0.94      0.93      1000\n",
            "\n",
            "    accuracy                           0.83     10000\n",
            "   macro avg       0.83      0.83      0.83     10000\n",
            "weighted avg       0.83      0.83      0.83     10000\n",
            "\n"
          ],
          "name": "stdout"
        }
      ]
    },
    {
      "cell_type": "markdown",
      "metadata": {
        "id": "sb3DK15rOYAs",
        "colab_type": "text"
      },
      "source": [
        "We can see can also see a similar improvement in test data, we have easily achieved an F1-score of **0.83** and we got **0.93** in some classes."
      ]
    },
    {
      "cell_type": "markdown",
      "metadata": {
        "id": "FJ5CpEElOYAs",
        "colab_type": "text"
      },
      "source": [
        "## A more powerful feed-forward network\n",
        "\n",
        "In order to improve our results, let's try to create a bigger network, with more nodes and hidden layers. Also, lets change the optimizer and use `adam`."
      ]
    },
    {
      "cell_type": "code",
      "metadata": {
        "id": "B5ySvYW3OYAt",
        "colab_type": "code",
        "colab": {},
        "outputId": "f9fbd7da-123f-46d9-a4a1-12203852ad30"
      },
      "source": [
        "model = Sequential()\n",
        "model.add(Flatten(input_shape=(28, 28)))\n",
        "model.add(Dense(256, activation='relu'))\n",
        "model.add(Dense(128, activation='relu'))\n",
        "model.add(Dense(64, activation='relu'))\n",
        "model.add(Dense(10, activation='softmax'))\n",
        "model.summary()\n",
        "\n",
        "model.compile(optimizer='adam',\n",
        "              loss='categorical_crossentropy',\n",
        "              metrics=['acc'])\n",
        "\n",
        "history = model.fit(x_train, y_train_onehot, \n",
        "                    epochs=epochs,\n",
        "                    batch_size=batch_size,\n",
        "                    validation_split=0.2, # 20% held-out \n",
        "                    verbose=1)\n",
        "plot_training(history, model_name='ReLU Model with Adam')"
      ],
      "execution_count": 0,
      "outputs": [
        {
          "output_type": "stream",
          "text": [
            "Model: \"sequential_9\"\n",
            "_________________________________________________________________\n",
            "Layer (type)                 Output Shape              Param #   \n",
            "=================================================================\n",
            "flatten_9 (Flatten)          (None, 784)               0         \n",
            "_________________________________________________________________\n",
            "dense_30 (Dense)             (None, 256)               200960    \n",
            "_________________________________________________________________\n",
            "dense_31 (Dense)             (None, 128)               32896     \n",
            "_________________________________________________________________\n",
            "dense_32 (Dense)             (None, 64)                8256      \n",
            "_________________________________________________________________\n",
            "dense_33 (Dense)             (None, 10)                650       \n",
            "=================================================================\n",
            "Total params: 242,762\n",
            "Trainable params: 242,762\n",
            "Non-trainable params: 0\n",
            "_________________________________________________________________\n",
            "Train on 48000 samples, validate on 12000 samples\n",
            "Epoch 1/10\n",
            "48000/48000 [==============================] - 2s 34us/step - loss: 0.5454 - acc: 0.8094 - val_loss: 0.4467 - val_acc: 0.8363\n",
            "Epoch 2/10\n",
            "48000/48000 [==============================] - 1s 27us/step - loss: 0.3832 - acc: 0.8619 - val_loss: 0.3951 - val_acc: 0.8562\n",
            "Epoch 3/10\n",
            "48000/48000 [==============================] - 1s 28us/step - loss: 0.3392 - acc: 0.8758 - val_loss: 0.3522 - val_acc: 0.8728\n",
            "Epoch 4/10\n",
            "48000/48000 [==============================] - 1s 27us/step - loss: 0.3124 - acc: 0.8847 - val_loss: 0.3369 - val_acc: 0.8789\n",
            "Epoch 5/10\n",
            "48000/48000 [==============================] - 1s 28us/step - loss: 0.2912 - acc: 0.8932 - val_loss: 0.3404 - val_acc: 0.8740\n",
            "Epoch 6/10\n",
            "48000/48000 [==============================] - 1s 28us/step - loss: 0.2780 - acc: 0.8977 - val_loss: 0.3354 - val_acc: 0.8795\n",
            "Epoch 7/10\n",
            "48000/48000 [==============================] - 1s 28us/step - loss: 0.2678 - acc: 0.9002 - val_loss: 0.3177 - val_acc: 0.8863\n",
            "Epoch 8/10\n",
            "48000/48000 [==============================] - 1s 30us/step - loss: 0.2554 - acc: 0.9048 - val_loss: 0.3316 - val_acc: 0.8820\n",
            "Epoch 9/10\n",
            "48000/48000 [==============================] - 1s 31us/step - loss: 0.2414 - acc: 0.9099 - val_loss: 0.3282 - val_acc: 0.8808\n",
            "Epoch 10/10\n",
            "48000/48000 [==============================] - 2s 31us/step - loss: 0.2338 - acc: 0.9126 - val_loss: 0.3137 - val_acc: 0.8909\n"
          ],
          "name": "stdout"
        },
        {
          "output_type": "display_data",
          "data": {
            "image/png": "[encoded data removed]",
            "text/plain": [
              "<Figure size 1008x576 with 2 Axes>"
            ]
          },
          "metadata": {
            "tags": [],
            "needs_background": "light"
          }
        }
      ]
    },
    {
      "cell_type": "markdown",
      "metadata": {
        "id": "6OCn67a_OYAu",
        "colab_type": "text"
      },
      "source": [
        "We can see that the loss function descends quicker but almost inmediatly we can start seeing overfitting. \n",
        "Let's try changing the learning rate, so we slow down the speed used for descending through the gradient.\n",
        "We will be adding some dropout and traing during more epochs."
      ]
    },
    {
      "cell_type": "code",
      "metadata": {
        "id": "FSTgD8PlOYAv",
        "colab_type": "code",
        "colab": {},
        "outputId": "5cc99051-a78e-4c62-b9e1-acd563a1ad57"
      },
      "source": [
        "model = Sequential()\n",
        "model.add(Flatten(input_shape=(28, 28)))\n",
        "model.add(Dense(256, activation='relu'))\n",
        "model.add(Dropout(0.2))\n",
        "model.add(Dense(128, activation='relu'))\n",
        "model.add(Dropout(0.2))\n",
        "model.add(Dense(64, activation='relu'))\n",
        "model.add(Dropout(0.2))\n",
        "model.add(Dense(10, activation='softmax'))\n",
        "model.summary()\n",
        "\n",
        "adam = keras.optimizers.Adam(learning_rate=0.0001)\n",
        "model.compile(optimizer=adam,\n",
        "              loss='categorical_crossentropy',\n",
        "              metrics=['acc'])\n",
        "\n",
        "history = model.fit(x_train, y_train_onehot, \n",
        "                    epochs=epochs * 3, # 3x epochs we were using.\n",
        "                    batch_size=batch_size,\n",
        "                    validation_split=0.2, # 20% held-out \n",
        "                    verbose=1)\n",
        "plot_training(history, model_name='ReLU Model + Dropout with Adam')"
      ],
      "execution_count": 0,
      "outputs": [
        {
          "output_type": "stream",
          "text": [
            "Model: \"sequential_13\"\n",
            "_________________________________________________________________\n",
            "Layer (type)                 Output Shape              Param #   \n",
            "=================================================================\n",
            "flatten_13 (Flatten)         (None, 784)               0         \n",
            "_________________________________________________________________\n",
            "dense_46 (Dense)             (None, 256)               200960    \n",
            "_________________________________________________________________\n",
            "dropout_10 (Dropout)         (None, 256)               0         \n",
            "_________________________________________________________________\n",
            "dense_47 (Dense)             (None, 128)               32896     \n",
            "_________________________________________________________________\n",
            "dropout_11 (Dropout)         (None, 128)               0         \n",
            "_________________________________________________________________\n",
            "dense_48 (Dense)             (None, 64)                8256      \n",
            "_________________________________________________________________\n",
            "dropout_12 (Dropout)         (None, 64)                0         \n",
            "_________________________________________________________________\n",
            "dense_49 (Dense)             (None, 10)                650       \n",
            "=================================================================\n",
            "Total params: 242,762\n",
            "Trainable params: 242,762\n",
            "Non-trainable params: 0\n",
            "_________________________________________________________________\n",
            "Train on 48000 samples, validate on 12000 samples\n",
            "Epoch 1/30\n",
            "48000/48000 [==============================] - 2s 50us/step - loss: 1.2297 - acc: 0.5819 - val_loss: 0.6574 - val_acc: 0.7823\n",
            "Epoch 2/30\n",
            "48000/48000 [==============================] - 2s 43us/step - loss: 0.7186 - acc: 0.7579 - val_loss: 0.5260 - val_acc: 0.8216\n",
            "Epoch 3/30\n",
            "48000/48000 [==============================] - 2s 44us/step - loss: 0.5982 - acc: 0.7969 - val_loss: 0.4699 - val_acc: 0.8374\n",
            "Epoch 4/30\n",
            "48000/48000 [==============================] - 2s 40us/step - loss: 0.5335 - acc: 0.8178 - val_loss: 0.4349 - val_acc: 0.8489\n",
            "Epoch 5/30\n",
            "48000/48000 [==============================] - 2s 41us/step - loss: 0.4942 - acc: 0.8288 - val_loss: 0.4140 - val_acc: 0.8516\n",
            "Epoch 6/30\n",
            "48000/48000 [==============================] - 2s 46us/step - loss: 0.4644 - acc: 0.8391 - val_loss: 0.4044 - val_acc: 0.8530\n",
            "Epoch 7/30\n",
            "48000/48000 [==============================] - 2s 44us/step - loss: 0.4431 - acc: 0.8448 - val_loss: 0.3869 - val_acc: 0.8606\n",
            "Epoch 8/30\n",
            "48000/48000 [==============================] - 2s 43us/step - loss: 0.4249 - acc: 0.8513 - val_loss: 0.3764 - val_acc: 0.8648\n",
            "Epoch 9/30\n",
            "48000/48000 [==============================] - 2s 44us/step - loss: 0.4084 - acc: 0.8561 - val_loss: 0.3646 - val_acc: 0.8677\n",
            "Epoch 10/30\n",
            "48000/48000 [==============================] - 2s 43us/step - loss: 0.3934 - acc: 0.8613 - val_loss: 0.3605 - val_acc: 0.8710\n",
            "Epoch 11/30\n",
            "48000/48000 [==============================] - 2s 44us/step - loss: 0.3840 - acc: 0.8664 - val_loss: 0.3508 - val_acc: 0.8743\n",
            "Epoch 12/30\n",
            "48000/48000 [==============================] - 2s 44us/step - loss: 0.3733 - acc: 0.8689 - val_loss: 0.3498 - val_acc: 0.8729\n",
            "Epoch 13/30\n",
            "48000/48000 [==============================] - 2s 43us/step - loss: 0.3637 - acc: 0.8717 - val_loss: 0.3403 - val_acc: 0.8779\n",
            "Epoch 14/30\n",
            "48000/48000 [==============================] - 2s 43us/step - loss: 0.3559 - acc: 0.8737 - val_loss: 0.3361 - val_acc: 0.8805\n",
            "Epoch 15/30\n",
            "48000/48000 [==============================] - 2s 43us/step - loss: 0.3474 - acc: 0.8779 - val_loss: 0.3318 - val_acc: 0.8804\n",
            "Epoch 16/30\n",
            "48000/48000 [==============================] - 2s 44us/step - loss: 0.3383 - acc: 0.8792 - val_loss: 0.3282 - val_acc: 0.8812\n",
            "Epoch 17/30\n",
            "48000/48000 [==============================] - 2s 44us/step - loss: 0.3331 - acc: 0.8806 - val_loss: 0.3281 - val_acc: 0.8816\n",
            "Epoch 18/30\n",
            "48000/48000 [==============================] - 2s 44us/step - loss: 0.3269 - acc: 0.8819 - val_loss: 0.3254 - val_acc: 0.8827\n",
            "Epoch 19/30\n",
            "48000/48000 [==============================] - 2s 43us/step - loss: 0.3192 - acc: 0.8855 - val_loss: 0.3200 - val_acc: 0.8838\n",
            "Epoch 20/30\n",
            "48000/48000 [==============================] - 2s 43us/step - loss: 0.3153 - acc: 0.8873 - val_loss: 0.3164 - val_acc: 0.8864\n",
            "Epoch 21/30\n",
            "48000/48000 [==============================] - 2s 44us/step - loss: 0.3111 - acc: 0.8902 - val_loss: 0.3174 - val_acc: 0.8850\n",
            "Epoch 22/30\n",
            "48000/48000 [==============================] - 2s 43us/step - loss: 0.3051 - acc: 0.8904 - val_loss: 0.3160 - val_acc: 0.8876\n",
            "Epoch 23/30\n",
            "48000/48000 [==============================] - 2s 44us/step - loss: 0.3016 - acc: 0.8920 - val_loss: 0.3141 - val_acc: 0.8874\n",
            "Epoch 24/30\n",
            "48000/48000 [==============================] - 2s 43us/step - loss: 0.2981 - acc: 0.8928 - val_loss: 0.3118 - val_acc: 0.8882\n",
            "Epoch 25/30\n",
            "48000/48000 [==============================] - 2s 44us/step - loss: 0.2909 - acc: 0.8963 - val_loss: 0.3073 - val_acc: 0.8883\n",
            "Epoch 26/30\n",
            "48000/48000 [==============================] - 2s 44us/step - loss: 0.2850 - acc: 0.8981 - val_loss: 0.3086 - val_acc: 0.8919\n",
            "Epoch 27/30\n",
            "48000/48000 [==============================] - 2s 43us/step - loss: 0.2804 - acc: 0.8993 - val_loss: 0.3087 - val_acc: 0.8898\n",
            "Epoch 28/30\n",
            "48000/48000 [==============================] - 2s 44us/step - loss: 0.2796 - acc: 0.9000 - val_loss: 0.3070 - val_acc: 0.8918\n",
            "Epoch 29/30\n",
            "48000/48000 [==============================] - 2s 44us/step - loss: 0.2714 - acc: 0.9029 - val_loss: 0.3027 - val_acc: 0.8928\n",
            "Epoch 30/30\n",
            "48000/48000 [==============================] - 2s 45us/step - loss: 0.2707 - acc: 0.9014 - val_loss: 0.3029 - val_acc: 0.8904\n"
          ],
          "name": "stdout"
        },
        {
          "output_type": "display_data",
          "data": {
            "image/png": "[encoded data removed]",
            "text/plain": [
              "<Figure size 1008x576 with 2 Axes>"
            ]
          },
          "metadata": {
            "tags": [],
            "needs_background": "light"
          }
        }
      ]
    },
    {
      "cell_type": "code",
      "metadata": {
        "id": "eDmPTKyeOYAw",
        "colab_type": "code",
        "colab": {},
        "outputId": "13b3b14f-f877-418a-8abf-64ee375551f6"
      },
      "source": [
        "evaluate_model(model, x_test, y_test_onehot)\n",
        "print('\\nClassification Report: ')\n",
        "model_classfication_report(model, x_test, y_test_onehot)"
      ],
      "execution_count": 0,
      "outputs": [
        {
          "output_type": "stream",
          "text": [
            "10000/10000 [==============================] - 0s 25us/step\n",
            "Loss:  0.33092855165600776\n",
            "ACC:  0.8824999928474426\n",
            "\n",
            "Classification Report: \n",
            "10000/10000 [==============================] - 0s 44us/step\n",
            "              precision    recall  f1-score   support\n",
            "\n",
            "           0       0.84      0.83      0.83      1000\n",
            "           1       0.99      0.96      0.98      1000\n",
            "           2       0.80      0.79      0.79      1000\n",
            "           3       0.88      0.90      0.89      1000\n",
            "           4       0.78      0.83      0.81      1000\n",
            "           5       0.97      0.96      0.96      1000\n",
            "           6       0.72      0.68      0.70      1000\n",
            "           7       0.94      0.93      0.94      1000\n",
            "           8       0.97      0.98      0.97      1000\n",
            "           9       0.94      0.97      0.95      1000\n",
            "\n",
            "    accuracy                           0.88     10000\n",
            "   macro avg       0.88      0.88      0.88     10000\n",
            "weighted avg       0.88      0.88      0.88     10000\n",
            "\n"
          ],
          "name": "stdout"
        }
      ]
    },
    {
      "cell_type": "markdown",
      "metadata": {
        "id": "-JEMbcfIOYAy",
        "colab_type": "text"
      },
      "source": [
        "Not bad for a feed-forward network, we got `0.88` F1-scorem with some great results for some classes like `Trouser`, `Sandal` and `Bag`."
      ]
    },
    {
      "cell_type": "markdown",
      "metadata": {
        "id": "eLDigK2yOYAz",
        "colab_type": "text"
      },
      "source": [
        "## A Convolutional Neural Network\n",
        "\n",
        "Now let's be a little bit more ambitious and use CNNs. We will nedd a GPU to train this network, so better you might want to run this on Colab if you don't have a GPU."
      ]
    },
    {
      "cell_type": "markdown",
      "metadata": {
        "id": "T9UqL8kVOYAz",
        "colab_type": "text"
      },
      "source": [
        "We need to reshape the train and test input to be able to use it with the CNN model. Basically we simply need to add a dimesion (because Conv2D can be used with multiple dimensions, like RGB for images)."
      ]
    },
    {
      "cell_type": "code",
      "metadata": {
        "id": "OpHba5xeOYA0",
        "colab_type": "code",
        "colab": {}
      },
      "source": [
        "x_train_cnn = x_train.reshape(len(x_train), 28, 28, 1)\n",
        "x_test_cnn = x_test.reshape(len(x_test), 28, 28, 1)"
      ],
      "execution_count": 0,
      "outputs": []
    },
    {
      "cell_type": "code",
      "metadata": {
        "id": "bUXv9zOSOYA1",
        "colab_type": "code",
        "colab": {
          "base_uri": "https://localhost:8080/",
          "height": 459
        },
        "outputId": "5bf9d998-54f0-4136-b24e-6b5d22cecf56"
      },
      "source": [
        "model = Sequential()\n",
        "model.add(Conv2D(32, kernel_size=(3, 3), input_shape=(28, 28, 1), activation='relu'))\n",
        "#model.add(MaxPooling2D(pool_size=(2, 2)))\n",
        "#model.add(Dropout(0.25))\n",
        "\n",
        "model.add(Conv2D(64, kernel_size=(3, 3), activation='relu'))\n",
        "model.add(MaxPooling2D(pool_size=(2, 2)))\n",
        "model.add(Dropout(0.25))\n",
        "\n",
        "model.add(Conv2D(128, kernel_size=(3, 3), activation='relu'))\n",
        "\n",
        "model.add(Flatten())\n",
        "model.add(Dense(128, activation='relu'))\n",
        "model.add(Dropout(0.5))\n",
        "# model.add(Dense(64, activation='relu'))\n",
        "# model.add(Dropout(0.3))\n",
        "model.add(Dense(10, activation='softmax'))\n",
        "\n",
        "#adam = keras.optimizers.Adam(learning_rate=0.0001)\n",
        "model.compile(optimizer='RMSProp', \n",
        "               loss='categorical_crossentropy', \n",
        "               metrics=['acc'])  \n",
        "model.summary()"
      ],
      "execution_count": 16,
      "outputs": [
        {
          "output_type": "stream",
          "text": [
            "Model: \"sequential_3\"\n",
            "_________________________________________________________________\n",
            "Layer (type)                 Output Shape              Param #   \n",
            "=================================================================\n",
            "conv2d_4 (Conv2D)            (None, 26, 26, 32)        320       \n",
            "_________________________________________________________________\n",
            "conv2d_5 (Conv2D)            (None, 24, 24, 64)        18496     \n",
            "_________________________________________________________________\n",
            "max_pooling2d_2 (MaxPooling2 (None, 12, 12, 64)        0         \n",
            "_________________________________________________________________\n",
            "dropout_3 (Dropout)          (None, 12, 12, 64)        0         \n",
            "_________________________________________________________________\n",
            "conv2d_6 (Conv2D)            (None, 10, 10, 128)       73856     \n",
            "_________________________________________________________________\n",
            "flatten_3 (Flatten)          (None, 12800)             0         \n",
            "_________________________________________________________________\n",
            "dense_6 (Dense)              (None, 128)               1638528   \n",
            "_________________________________________________________________\n",
            "dropout_4 (Dropout)          (None, 128)               0         \n",
            "_________________________________________________________________\n",
            "dense_7 (Dense)              (None, 10)                1290      \n",
            "=================================================================\n",
            "Total params: 1,732,490\n",
            "Trainable params: 1,732,490\n",
            "Non-trainable params: 0\n",
            "_________________________________________________________________\n"
          ],
          "name": "stdout"
        }
      ]
    },
    {
      "cell_type": "code",
      "metadata": {
        "id": "FmFXEfbaOYA3",
        "colab_type": "code",
        "colab": {
          "base_uri": "https://localhost:8080/",
          "height": 973
        },
        "outputId": "27524572-2a63-425d-9d5a-1c540c624cb3"
      },
      "source": [
        "history = model.fit(x_train_cnn, y_train_onehot, \n",
        "                    epochs=epochs * 2,\n",
        "                    batch_size=batch_size,\n",
        "                    validation_split=0.2, # 20% held-out \n",
        "                    verbose=1)\n",
        "plot_training(history, model_name='CNN Model')"
      ],
      "execution_count": 17,
      "outputs": [
        {
          "output_type": "stream",
          "text": [
            "Train on 48000 samples, validate on 12000 samples\n",
            "Epoch 1/20\n",
            "48000/48000 [==============================] - 10s 212us/step - loss: 0.5958 - acc: 0.7864 - val_loss: 0.3560 - val_acc: 0.8753\n",
            "Epoch 2/20\n",
            "48000/48000 [==============================] - 5s 97us/step - loss: 0.3520 - acc: 0.8758 - val_loss: 0.2757 - val_acc: 0.8983\n",
            "Epoch 3/20\n",
            "48000/48000 [==============================] - 5s 98us/step - loss: 0.2923 - acc: 0.8978 - val_loss: 0.2451 - val_acc: 0.9105\n",
            "Epoch 4/20\n",
            "48000/48000 [==============================] - 5s 99us/step - loss: 0.2589 - acc: 0.9096 - val_loss: 0.2371 - val_acc: 0.9149\n",
            "Epoch 5/20\n",
            "48000/48000 [==============================] - 5s 100us/step - loss: 0.2386 - acc: 0.9182 - val_loss: 0.2251 - val_acc: 0.9192\n",
            "Epoch 6/20\n",
            "48000/48000 [==============================] - 5s 98us/step - loss: 0.2226 - acc: 0.9226 - val_loss: 0.2221 - val_acc: 0.9220\n",
            "Epoch 7/20\n",
            "48000/48000 [==============================] - 5s 98us/step - loss: 0.2139 - acc: 0.9267 - val_loss: 0.2134 - val_acc: 0.9238\n",
            "Epoch 8/20\n",
            "48000/48000 [==============================] - 5s 98us/step - loss: 0.2036 - acc: 0.9288 - val_loss: 0.2207 - val_acc: 0.9235\n",
            "Epoch 9/20\n",
            "48000/48000 [==============================] - 5s 97us/step - loss: 0.1983 - acc: 0.9335 - val_loss: 0.2116 - val_acc: 0.9260\n",
            "Epoch 10/20\n",
            "48000/48000 [==============================] - 5s 98us/step - loss: 0.1925 - acc: 0.9347 - val_loss: 0.2252 - val_acc: 0.9247\n",
            "Epoch 11/20\n",
            "48000/48000 [==============================] - 5s 98us/step - loss: 0.1849 - acc: 0.9359 - val_loss: 0.2259 - val_acc: 0.9232\n",
            "Epoch 12/20\n",
            "48000/48000 [==============================] - 5s 98us/step - loss: 0.1816 - acc: 0.9376 - val_loss: 0.2322 - val_acc: 0.9255\n",
            "Epoch 13/20\n",
            "48000/48000 [==============================] - 5s 97us/step - loss: 0.1808 - acc: 0.9376 - val_loss: 0.2163 - val_acc: 0.9262\n",
            "Epoch 14/20\n",
            "48000/48000 [==============================] - 5s 97us/step - loss: 0.1786 - acc: 0.9389 - val_loss: 0.2195 - val_acc: 0.9238\n",
            "Epoch 15/20\n",
            "48000/48000 [==============================] - 5s 97us/step - loss: 0.1747 - acc: 0.9403 - val_loss: 0.2278 - val_acc: 0.9254\n",
            "Epoch 16/20\n",
            "48000/48000 [==============================] - 5s 97us/step - loss: 0.1790 - acc: 0.9387 - val_loss: 0.2310 - val_acc: 0.9239\n",
            "Epoch 17/20\n",
            "48000/48000 [==============================] - 5s 97us/step - loss: 0.1781 - acc: 0.9406 - val_loss: 0.2877 - val_acc: 0.9179\n",
            "Epoch 18/20\n",
            "48000/48000 [==============================] - 5s 96us/step - loss: 0.1761 - acc: 0.9409 - val_loss: 0.2463 - val_acc: 0.9201\n",
            "Epoch 19/20\n",
            "48000/48000 [==============================] - 5s 97us/step - loss: 0.1753 - acc: 0.9408 - val_loss: 0.2582 - val_acc: 0.9202\n",
            "Epoch 20/20\n",
            "48000/48000 [==============================] - 5s 97us/step - loss: 0.1739 - acc: 0.9421 - val_loss: 0.2174 - val_acc: 0.9283\n"
          ],
          "name": "stdout"
        },
        {
          "output_type": "display_data",
          "data": {
            "image/png": "[encoded data removed]",
            "text/plain": [
              "<Figure size 1008x576 with 2 Axes>"
            ]
          },
          "metadata": {
            "tags": [],
            "needs_background": "light"
          }
        }
      ]
    },
    {
      "cell_type": "markdown",
      "metadata": {
        "id": "YAfz6JT8QI2t",
        "colab_type": "text"
      },
      "source": [
        "We can see that training converges after about 10 epochs."
      ]
    },
    {
      "cell_type": "code",
      "metadata": {
        "id": "ccRW6t8JOYA5",
        "colab_type": "code",
        "colab": {
          "base_uri": "https://localhost:8080/",
          "height": 408
        },
        "outputId": "ecef2ca0-a98c-4f3f-9505-c943c20d9f55"
      },
      "source": [
        "evaluate_model(model, x_test_cnn, y_test_onehot)\n",
        "print('\\nClassification Report: ')\n",
        "predictions = model_classfication_report(model, x_test_cnn, y_test_onehot)"
      ],
      "execution_count": 18,
      "outputs": [
        {
          "output_type": "stream",
          "text": [
            "10000/10000 [==============================] - 1s 105us/step\n",
            "Loss:  0.2267676340341568\n",
            "ACC:  0.9251999855041504\n",
            "\n",
            "Classification Report: \n",
            "10000/10000 [==============================] - 1s 66us/step\n",
            "              precision    recall  f1-score   support\n",
            "\n",
            "           0       0.88      0.89      0.88      1000\n",
            "           1       0.99      0.98      0.99      1000\n",
            "           2       0.88      0.89      0.88      1000\n",
            "           3       0.92      0.93      0.93      1000\n",
            "           4       0.88      0.89      0.89      1000\n",
            "           5       0.99      0.97      0.98      1000\n",
            "           6       0.80      0.77      0.78      1000\n",
            "           7       0.96      0.97      0.97      1000\n",
            "           8       0.98      0.98      0.98      1000\n",
            "           9       0.97      0.97      0.97      1000\n",
            "\n",
            "    accuracy                           0.93     10000\n",
            "   macro avg       0.93      0.93      0.93     10000\n",
            "weighted avg       0.93      0.93      0.93     10000\n",
            "\n"
          ],
          "name": "stdout"
        }
      ]
    },
    {
      "cell_type": "markdown",
      "metadata": {
        "id": "_Hf39QEDZNOE",
        "colab_type": "text"
      },
      "source": [
        "Great! we acchieved .91 accuracy and some classes like `Trouser` .99 accuracy.\n",
        "\n",
        "Now, let's see some classifications:"
      ]
    },
    {
      "cell_type": "code",
      "metadata": {
        "id": "Ou7U9wJbPcUu",
        "colab_type": "code",
        "colab": {
          "base_uri": "https://localhost:8080/",
          "height": 251
        },
        "outputId": "156386e1-22de-4485-d8cd-8a3af1b58a67"
      },
      "source": [
        "show_images_grid(x_test[0:10], predictions[0:10])"
      ],
      "execution_count": 21,
      "outputs": [
        {
          "output_type": "display_data",
          "data": {
            "image/png": "[encoded data removed]",
            "text/plain": [
              "<Figure size 720x720 with 10 Axes>"
            ]
          },
          "metadata": {
            "tags": []
          }
        }
      ]
    },
    {
      "cell_type": "code",
      "metadata": {
        "id": "heWTDk1TaHk-",
        "colab_type": "code",
        "colab": {}
      },
      "source": [
        ""
      ],
      "execution_count": 0,
      "outputs": []
    }
  ]
}